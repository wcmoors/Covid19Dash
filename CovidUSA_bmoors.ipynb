{
 "cells": [
  {
   "cell_type": "markdown",
   "metadata": {},
   "source": [
    "# United States Covid Dashboards\n",
    "\n",
    "Update on refresh is from https://dash.plotly.com/live-updates"
   ]
  },
  {
   "cell_type": "markdown",
   "metadata": {},
   "source": [
    "### Import Libraries"
   ]
  },
  {
   "cell_type": "code",
   "execution_count": 1,
   "metadata": {},
   "outputs": [],
   "source": [
    "#import mysql.connector as sql\n",
    "import pandas as pd\n",
    "import pymysql\n",
    "import plotly\n",
    "import plotly.graph_objects as go\n",
    "import dash\n",
    "import dash_core_components as dcc\n",
    "import dash_bootstrap_components as dbc\n",
    "import dash_html_components as html\n",
    "import plotly.express as px\n",
    "import getpass\n",
    "import plotly.graph_objects as go\n",
    "from datetime import datetime\n",
    "from dash.dependencies import Input, Output\n",
    "import snowflake.connector\n",
    "from config import p, u, a, w, d, s"
   ]
  },
  {
   "cell_type": "markdown",
   "metadata": {},
   "source": [
    "### Get DB User"
   ]
  },
  {
   "cell_type": "code",
   "execution_count": 2,
   "metadata": {},
   "outputs": [],
   "source": [
    "#try:\n",
    "#    u = getpass.getpass(prompt='User: ')\n",
    "#except Exception as error:\n",
    "#    print('ERROR', error)\n",
    "#else:\n",
    "#    print('User entered')"
   ]
  },
  {
   "cell_type": "markdown",
   "metadata": {},
   "source": [
    "### Get DB Password"
   ]
  },
  {
   "cell_type": "code",
   "execution_count": 3,
   "metadata": {},
   "outputs": [],
   "source": [
    "#try:\n",
    "#    p = getpass.getpass()\n",
    "#except Exception as error:\n",
    "#    print('ERROR', error)\n",
    "#else:\n",
    "#    print('Password entered')\n",
    "    "
   ]
  },
  {
   "cell_type": "markdown",
   "metadata": {},
   "source": [
    "### Snowflake Connection Test"
   ]
  },
  {
   "cell_type": "code",
   "execution_count": 4,
   "metadata": {},
   "outputs": [
    {
     "name": "stdout",
     "output_type": "stream",
     "text": [
      "5.21.1\n"
     ]
    }
   ],
   "source": [
    "# Gets the version\n",
    "ctx = snowflake.connector.connect(\n",
    "    user=u,\n",
    "    password=p,\n",
    "    account=a\n",
    "    )\n",
    "cs = ctx.cursor()\n",
    "try:\n",
    "    cs.execute(\"SELECT current_version()\")\n",
    "    one_row = cs.fetchone()\n",
    "    print(one_row[0])\n",
    "finally:\n",
    "    cs.close()\n",
    "    ctx.close()"
   ]
  },
  {
   "cell_type": "markdown",
   "metadata": {},
   "source": [
    "### Establish DB Connection and Pull the Data"
   ]
  },
  {
   "cell_type": "code",
   "execution_count": 5,
   "metadata": {},
   "outputs": [],
   "source": [
    "ctx = snowflake.connector.connect(\n",
    "    user=u,\n",
    "    password=p,\n",
    "    account=a,\n",
    "    warehouse=w,\n",
    "    database=d,\n",
    "    schema=s\n",
    "    )\n",
    "cs = ctx.cursor()"
   ]
  },
  {
   "cell_type": "code",
   "execution_count": 6,
   "metadata": {},
   "outputs": [],
   "source": [
    "def data_loading():\n",
    "    pd.options.display.float_format = '{:,}'.format\n",
    "    results = cs.execute(\"\"\"\n",
    "    SELECT DISTINCT\n",
    "    COUNTRY_REGION,\n",
    "    CASE_TYPE,\n",
    "    SUM(CASES),\n",
    "\n",
    "    DATE\n",
    "    FROM JHU_COVID_19_TIMESERIES\n",
    "    WHERE COUNTRY_REGION = 'United States'\n",
    "    AND CASE_TYPE <> 'Recovered'\n",
    "    --AND LAST_REPORTED_FLAG = 'TRUE'\n",
    "\n",
    "    GROUP BY COUNTRY_REGION, CASE_TYPE, DATE\n",
    "\n",
    "    ORDER BY DATE DESC;\"\"\")\n",
    "    usa_df=pd.DataFrame(results, columns=['COUNTRY_REGION', 'CASE_TYPE', 'CASES', 'DATE'])\n",
    "\n",
    "    results = cs.execute(\"\"\"\n",
    "    SELECT DISTINCT\n",
    "    COUNTRY_REGION,\n",
    "    PROVINCE_STATE,\n",
    "    CONFIRMED,\n",
    "    DEATHS,\n",
    "    DATE,\n",
    "    ISO3166_1,\n",
    "    ISO3166_2\n",
    "    FROM JHU_DASHBOARD_COVID_19_GLOBAL\n",
    "    WHERE COUNTRY_REGION = 'United States'\n",
    "    --AND PROVINCE_STATE = 'Alabama'\n",
    "    AND LAST_REPORTED_FLAG = 'TRUE'\n",
    "\n",
    "    ORDER BY COUNTRY_REGION, PROVINCE_STATE, DATE\n",
    "    ;\"\"\")\n",
    "    states_df=pd.DataFrame(results, columns=['COUNTRY_REGION', 'PROVINCE_STATE', 'CASES', 'DEATHS', 'DATE', \n",
    "                                           'COUNTRY_CODE', 'STATE_CODE'])\n",
    "\n",
    "\n",
    "    #data wrangling\n",
    "    usa_cases_df = usa_df[usa_df['CASE_TYPE']=='Confirmed']\n",
    "    usa_deaths_df = usa_df[usa_df['CASE_TYPE']=='Deaths']\n",
    "    usa_deaths_df = usa_deaths_df.rename(columns={\"CASES\": \"DEATHS\"})\n",
    "    usa_df = usa_cases_df.join(usa_deaths_df.set_index('DATE'), lsuffix='_caller', rsuffix='_other', on='DATE')\n",
    "    usa_df = usa_df.drop(['COUNTRY_REGION_other', 'CASE_TYPE_caller', 'CASE_TYPE_other'], axis=1)\n",
    "    usa_df = usa_df.rename(columns={\"COUNTRY_REGION_caller\": \"COUNTRY_REGION\"})\n",
    "    \n",
    "    states_df[\"CASES\"] = states_df[\"CASES\"].astype(float)\n",
    "    states_df[\"DEATHS\"] = states_df[\"DEATHS\"].astype(float)\n",
    "    \n",
    "    return usa_df, states_df\n",
    "\n"
   ]
  },
  {
   "cell_type": "code",
   "execution_count": 7,
   "metadata": {},
   "outputs": [],
   "source": [
    "usa_df, states_df = data_loading()"
   ]
  },
  {
   "cell_type": "markdown",
   "metadata": {},
   "source": [
    "### Explore the Data"
   ]
  },
  {
   "cell_type": "code",
   "execution_count": 8,
   "metadata": {},
   "outputs": [
    {
     "name": "stdout",
     "output_type": "stream",
     "text": [
      "COUNTRY_REGION     object\n",
      "CASES             float64\n",
      "DATE               object\n",
      "DEATHS            float64\n",
      "dtype: object\n"
     ]
    },
    {
     "data": {
      "text/html": [
       "<div>\n",
       "<style scoped>\n",
       "    .dataframe tbody tr th:only-of-type {\n",
       "        vertical-align: middle;\n",
       "    }\n",
       "\n",
       "    .dataframe tbody tr th {\n",
       "        vertical-align: top;\n",
       "    }\n",
       "\n",
       "    .dataframe thead th {\n",
       "        text-align: right;\n",
       "    }\n",
       "</style>\n",
       "<table border=\"1\" class=\"dataframe\">\n",
       "  <thead>\n",
       "    <tr style=\"text-align: right;\">\n",
       "      <th></th>\n",
       "      <th>COUNTRY_REGION</th>\n",
       "      <th>CASES</th>\n",
       "      <th>DATE</th>\n",
       "      <th>DEATHS</th>\n",
       "    </tr>\n",
       "  </thead>\n",
       "  <tbody>\n",
       "    <tr>\n",
       "      <th>1</th>\n",
       "      <td>United States</td>\n",
       "      <td>33,287,438.0</td>\n",
       "      <td>2021-06-01</td>\n",
       "      <td>595,213.0</td>\n",
       "    </tr>\n",
       "    <tr>\n",
       "      <th>2</th>\n",
       "      <td>United States</td>\n",
       "      <td>33,264,428.0</td>\n",
       "      <td>2021-05-31</td>\n",
       "      <td>594,572.0</td>\n",
       "    </tr>\n",
       "    <tr>\n",
       "      <th>4</th>\n",
       "      <td>United States</td>\n",
       "      <td>33,258,664.0</td>\n",
       "      <td>2021-05-30</td>\n",
       "      <td>594,430.0</td>\n",
       "    </tr>\n",
       "    <tr>\n",
       "      <th>7</th>\n",
       "      <td>United States</td>\n",
       "      <td>33,251,939.0</td>\n",
       "      <td>2021-05-29</td>\n",
       "      <td>594,306.0</td>\n",
       "    </tr>\n",
       "    <tr>\n",
       "      <th>8</th>\n",
       "      <td>United States</td>\n",
       "      <td>33,239,963.0</td>\n",
       "      <td>2021-05-28</td>\n",
       "      <td>593,963.0</td>\n",
       "    </tr>\n",
       "  </tbody>\n",
       "</table>\n",
       "</div>"
      ],
      "text/plain": [
       "  COUNTRY_REGION        CASES        DATE    DEATHS\n",
       "1  United States 33,287,438.0  2021-06-01 595,213.0\n",
       "2  United States 33,264,428.0  2021-05-31 594,572.0\n",
       "4  United States 33,258,664.0  2021-05-30 594,430.0\n",
       "7  United States 33,251,939.0  2021-05-29 594,306.0\n",
       "8  United States 33,239,963.0  2021-05-28 593,963.0"
      ]
     },
     "execution_count": 8,
     "metadata": {},
     "output_type": "execute_result"
    }
   ],
   "source": [
    "print(usa_df.dtypes)\n",
    "usa_df.head()"
   ]
  },
  {
   "cell_type": "code",
   "execution_count": 9,
   "metadata": {},
   "outputs": [
    {
     "name": "stdout",
     "output_type": "stream",
     "text": [
      "COUNTRY_REGION     object\n",
      "PROVINCE_STATE     object\n",
      "CASES             float64\n",
      "DEATHS            float64\n",
      "DATE               object\n",
      "COUNTRY_CODE       object\n",
      "STATE_CODE         object\n",
      "dtype: object\n"
     ]
    },
    {
     "data": {
      "text/html": [
       "<div>\n",
       "<style scoped>\n",
       "    .dataframe tbody tr th:only-of-type {\n",
       "        vertical-align: middle;\n",
       "    }\n",
       "\n",
       "    .dataframe tbody tr th {\n",
       "        vertical-align: top;\n",
       "    }\n",
       "\n",
       "    .dataframe thead th {\n",
       "        text-align: right;\n",
       "    }\n",
       "</style>\n",
       "<table border=\"1\" class=\"dataframe\">\n",
       "  <thead>\n",
       "    <tr style=\"text-align: right;\">\n",
       "      <th></th>\n",
       "      <th>COUNTRY_REGION</th>\n",
       "      <th>PROVINCE_STATE</th>\n",
       "      <th>CASES</th>\n",
       "      <th>DEATHS</th>\n",
       "      <th>DATE</th>\n",
       "      <th>COUNTRY_CODE</th>\n",
       "      <th>STATE_CODE</th>\n",
       "    </tr>\n",
       "  </thead>\n",
       "  <tbody>\n",
       "    <tr>\n",
       "      <th>0</th>\n",
       "      <td>United States</td>\n",
       "      <td>Alabama</td>\n",
       "      <td>544,598.0</td>\n",
       "      <td>11,167.0</td>\n",
       "      <td>2021-06-02</td>\n",
       "      <td>US</td>\n",
       "      <td>AL</td>\n",
       "    </tr>\n",
       "    <tr>\n",
       "      <th>1</th>\n",
       "      <td>United States</td>\n",
       "      <td>Alaska</td>\n",
       "      <td>70,355.0</td>\n",
       "      <td>369.0</td>\n",
       "      <td>2021-06-02</td>\n",
       "      <td>US</td>\n",
       "      <td>AK</td>\n",
       "    </tr>\n",
       "    <tr>\n",
       "      <th>2</th>\n",
       "      <td>United States</td>\n",
       "      <td>Arizona</td>\n",
       "      <td>881,454.0</td>\n",
       "      <td>17,628.0</td>\n",
       "      <td>2021-06-02</td>\n",
       "      <td>US</td>\n",
       "      <td>AZ</td>\n",
       "    </tr>\n",
       "    <tr>\n",
       "      <th>3</th>\n",
       "      <td>United States</td>\n",
       "      <td>Arkansas</td>\n",
       "      <td>341,450.0</td>\n",
       "      <td>5,834.0</td>\n",
       "      <td>2021-06-02</td>\n",
       "      <td>US</td>\n",
       "      <td>AR</td>\n",
       "    </tr>\n",
       "    <tr>\n",
       "      <th>4</th>\n",
       "      <td>United States</td>\n",
       "      <td>California</td>\n",
       "      <td>3,791,152.0</td>\n",
       "      <td>63,276.0</td>\n",
       "      <td>2021-06-02</td>\n",
       "      <td>US</td>\n",
       "      <td>CA</td>\n",
       "    </tr>\n",
       "  </tbody>\n",
       "</table>\n",
       "</div>"
      ],
      "text/plain": [
       "  COUNTRY_REGION PROVINCE_STATE       CASES   DEATHS        DATE COUNTRY_CODE  \\\n",
       "0  United States        Alabama   544,598.0 11,167.0  2021-06-02           US   \n",
       "1  United States         Alaska    70,355.0    369.0  2021-06-02           US   \n",
       "2  United States        Arizona   881,454.0 17,628.0  2021-06-02           US   \n",
       "3  United States       Arkansas   341,450.0  5,834.0  2021-06-02           US   \n",
       "4  United States     California 3,791,152.0 63,276.0  2021-06-02           US   \n",
       "\n",
       "  STATE_CODE  \n",
       "0         AL  \n",
       "1         AK  \n",
       "2         AZ  \n",
       "3         AR  \n",
       "4         CA  "
      ]
     },
     "execution_count": 9,
     "metadata": {},
     "output_type": "execute_result"
    }
   ],
   "source": [
    "print(states_df.dtypes)\n",
    "states_df.head()"
   ]
  },
  {
   "cell_type": "code",
   "execution_count": 10,
   "metadata": {},
   "outputs": [
    {
     "data": {
      "text/plain": [
       "33287438.0"
      ]
     },
     "execution_count": 10,
     "metadata": {},
     "output_type": "execute_result"
    }
   ],
   "source": [
    "TotalCases = usa_df['CASES'].iloc[0]\n",
    "TotalCases"
   ]
  },
  {
   "cell_type": "code",
   "execution_count": 11,
   "metadata": {},
   "outputs": [
    {
     "data": {
      "text/plain": [
       "595213.0"
      ]
     },
     "execution_count": 11,
     "metadata": {},
     "output_type": "execute_result"
    }
   ],
   "source": [
    "TotalDeaths = usa_df['DEATHS'].iloc[0]\n",
    "TotalDeaths"
   ]
  },
  {
   "cell_type": "markdown",
   "metadata": {},
   "source": [
    "### Build the Dashboard"
   ]
  },
  {
   "cell_type": "code",
   "execution_count": 12,
   "metadata": {},
   "outputs": [],
   "source": [
    "def figures(TotalCases, TotalDeaths, usa_df, states_df):\n",
    "    \n",
    "    #Total Cases\n",
    "    fig = go.Figure()\n",
    "    \n",
    "    fig.add_trace(go.Indicator(\n",
    "        value = TotalCases,\n",
    "        delta = {'reference': 20000000},\n",
    "        gauge = {'axis': {'range': [None, 20000000]}},\n",
    "        domain = {'row': 0, 'column': 0}))\n",
    "\n",
    "    fig.update_layout(\n",
    "        paper_bgcolor='rgba(0,0,0,0)',\n",
    "        grid = {'rows': 1, 'columns': 1, 'pattern': \"independent\"},\n",
    "        template = {'data' : {'indicator': [{\n",
    "            'title': {'text': \"Total Cases\"},\n",
    "            'mode' : \"number\",\n",
    "            'delta' : {'reference': 90}}]\n",
    "                         }})\n",
    "    \n",
    "    #Total Deaths\n",
    "    fig2 = go.Figure()\n",
    "    \n",
    "    fig2.add_trace(go.Indicator(\n",
    "        value = TotalDeaths,\n",
    "        delta = {'reference': 1000000},\n",
    "        gauge = {'axis': {'range': [None, 1000000]}},\n",
    "        domain = {'row': 0, 'column': 0}))\n",
    "    \n",
    "    fig2.update_layout(\n",
    "        paper_bgcolor='rgba(0,0,0,0)',\n",
    "        grid = {'rows': 1, 'columns': 1, 'pattern': \"independent\"},\n",
    "        template = {'data' : {'indicator': [{\n",
    "            'title': {'text': \"Total Deaths\"},\n",
    "            'mode' : \"number\",\n",
    "            'delta' : {'reference': 90}}]\n",
    "                             }})\n",
    "    \n",
    "    #Bar Chart\n",
    "    fig3 = px.bar(usa_df, x=\"DATE\", y=\"CASES\", color=\"DEATHS\", barmode=\"group\")\n",
    "    \n",
    "    fig3.update_layout(\n",
    "        paper_bgcolor='rgba(0,0,0,0)',\n",
    "        legend=dict(\n",
    "            yanchor=\"top\",\n",
    "            y=0.99,\n",
    "            xanchor=\"right\",\n",
    "            x=0.99\n",
    "        ),\n",
    "\n",
    "        legend_title_text='',\n",
    "        xaxis_title= '',\n",
    "        yaxis_title= 'Cases'\n",
    "    )\n",
    "    \n",
    "    fig3.update_traces(\n",
    "        \n",
    "    hovertemplate='%{x} <br>Cases: %{y:,.0f} <br>Deaths: %{marker.color:,.0f}')\n",
    "    \n",
    "    #Time\n",
    "    fig4 = html.Div([\n",
    "            datetime.now().strftime('%Y-%m-%d %H:%M:%S')\n",
    "        ], style = {'font-size': '1.0vw', 'background-color':'rgba(0,0,0,0)', \"text-align\": \"center\"})\n",
    "    \n",
    "    #Choropleth\n",
    "    fig5 = go.Figure(data=go.Choropleth(\n",
    "            locations=states_df['STATE_CODE'], # Spatial coordinates\n",
    "            z = states_df['CASES'], # Data to be color-coded\n",
    "            locationmode = 'USA-states', # set of locations match entries in `locations`\n",
    "            text=states_df['PROVINCE_STATE'] + \"<br>\" + states_df['CASES'].map('{:,.0f}'.format) + ' ' \n",
    "            + 'Cases' + \"<br>\" + states_df['DEATHS'].map('{:,.0f}'.format) + ' ' + 'Deaths',\n",
    "            hoverinfo = 'text',\n",
    "            colorscale = 'Purples',\n",
    "            #colorbar_title = 'Cases',\n",
    "\n",
    "        ))\n",
    "\n",
    "    fig5.update_layout(\n",
    "        geo=dict(bgcolor= 'rgba(0,0,0,0)'),\n",
    "        paper_bgcolor='rgba(0,0,0,0)',\n",
    "        #title_text = 'USA Covid-19',\n",
    "        geo_scope='usa', # limite map scope to USA\n",
    "        #legend=dict(\n",
    "        #    yanchor=\"bottom\",\n",
    "        #    y=0.99,\n",
    "        #    xanchor=\"bottom\",\n",
    "        #    x=0.99\n",
    "        #),\n",
    "        #legend_title_text=''\n",
    "    )\n",
    "    #fig5.data[0].colorbar.x=0.85\n",
    "    \n",
    "    return fig, fig2, fig3, fig4, fig5"
   ]
  },
  {
   "cell_type": "code",
   "execution_count": 13,
   "metadata": {},
   "outputs": [],
   "source": [
    "fig, fig2, fig3, fig4, fig5 = figures(TotalCases, TotalDeaths, usa_df, states_df)\n",
    "#config = dict({'responsive': True})"
   ]
  },
  {
   "cell_type": "code",
   "execution_count": 14,
   "metadata": {},
   "outputs": [],
   "source": [
    "#preview figs if needed\n",
    "#fig"
   ]
  },
  {
   "cell_type": "code",
   "execution_count": 15,
   "metadata": {},
   "outputs": [],
   "source": [
    "#fig2"
   ]
  },
  {
   "cell_type": "code",
   "execution_count": 16,
   "metadata": {},
   "outputs": [],
   "source": [
    "#fig3"
   ]
  },
  {
   "cell_type": "code",
   "execution_count": 17,
   "metadata": {},
   "outputs": [],
   "source": [
    "#fig4"
   ]
  },
  {
   "cell_type": "code",
   "execution_count": 18,
   "metadata": {},
   "outputs": [],
   "source": [
    "#fig5"
   ]
  },
  {
   "cell_type": "code",
   "execution_count": 19,
   "metadata": {},
   "outputs": [],
   "source": [
    "def serve_layout():\n",
    "    usa_df, states_df = data_loading()\n",
    "    TotalCases = usa_df['CASES'].iloc[0]\n",
    "    TotalDeaths = usa_df['DEATHS'].iloc[0]\n",
    "\n",
    "    fig, fig2, fig3, fig4, fig5 = figures(TotalCases, TotalDeaths, usa_df, states_df)\n",
    "    \n",
    "    #for clarity regarding intervals\n",
    "    second = 1 * 1000\n",
    "    minute = 1 * 1000 * 60\n",
    "    hour = 1 * 1000 * 60 * 60\n",
    "    \n",
    "    return dbc.Container([\n",
    "    #All elements from the top of the page    \n",
    "    #Set update interval\n",
    "    dcc.Interval(interval= 5 * minute, id=\"interval-component\"),\n",
    "    dbc.Row([\n",
    "        dbc.Col([\n",
    "            html.Div(style={\"height\": \"15%\"}),\n",
    "                dcc.Graph(\n",
    "                    style={\"height\": \"75%\"},\n",
    "                    config = dict({'responsive': True}),\n",
    "                    id='live-update-totalcases',\n",
    "                    figure=fig\n",
    "                )\n",
    "        ], style={\"height\": \"100%\", \n",
    "                  \"width\": \"30.6666666667%\"\n",
    "                 }),\n",
    "        dbc.Col([\n",
    "            html.H1(children='USA Covid-19 Tracker'),\n",
    "                html.Div(fig4, id='live-update-time'),#id to update on interval\n",
    "                dcc.Graph(\n",
    "                    style={\"height\": \"90%\"},\n",
    "                    config = dict({'responsive': True}),\n",
    "                    id='live-update-map',\n",
    "                    figure=fig5\n",
    "                ),\n",
    "                #html.Div([\n",
    "                #    html.Img(src=app.get_asset_url('united-states-png-8053.png'), \n",
    "                #        style={\"height\": \"100%\",\n",
    "                #              }\n",
    "                #    )\n",
    "                #], style={\"height\": \"85%\",                                \n",
    "                #            'display': 'flex',\n",
    "                #            'align-items': 'center',\n",
    "                #            'justify-content': 'center', \n",
    "                #         }\n",
    "                #)\n",
    "            ], style={\"height\": \"100%\", \"width\": \"30.6666666667%\",#style={\"height\": \"100%\", \"width\": \"30.6666666667%\",\n",
    "                     }),\n",
    "        dbc.Col([\n",
    "            html.Div(style={\"height\": \"15%\"}),\n",
    "                dcc.Graph(\n",
    "                    style={\"height\": \"75%\"},\n",
    "                    config = dict({'responsive': True}),\n",
    "                    id='live-update-totaldeaths',\n",
    "                    figure=fig2\n",
    "                )\n",
    "            ], style={\"height\": \"100%\", \n",
    "                  \"width\": \"30.6666666667%\" \n",
    "                 })\n",
    "    ],className=\"h-50\"),\n",
    "    # New Div for all elements in the new 'row' of the page\n",
    "    dbc.Row([\n",
    "        dbc.Col([\n",
    "            dcc.Graph(\n",
    "                style={\"height\": \"100%\"},\n",
    "                config = dict({'responsive': True}),\n",
    "                id='live-update-bar',\n",
    "                figure=fig3\n",
    "            )\n",
    "        ], style={\"height\": \"100%\", \"width\": \"100%\"})\n",
    "    ],className=\"h-50\") \n",
    "    ], style={\"height\": \"100vh\"}, fluid=True)\n"
   ]
  },
  {
   "cell_type": "markdown",
   "metadata": {},
   "source": [
    "### Create the App and Set the Interval Update Functions"
   ]
  },
  {
   "cell_type": "code",
   "execution_count": 20,
   "metadata": {},
   "outputs": [],
   "source": [
    "#create the app\n",
    "app = dash.Dash(__name__, external_stylesheets=[dbc.themes.BOOTSTRAP],     meta_tags=[\n",
    "        {\"name\": \"viewport\", \"content\": \"width=device-width, initial-scale=1\"}\n",
    "    ])\n",
    "\n",
    "#set interval update functions\n",
    "#update time\n",
    "@app.callback(Output('live-update-time', 'children'),\n",
    "              Input('interval-component', 'n_intervals'))\n",
    "def update_interval_time(n):\n",
    "    fig4 = html.Div([\n",
    "        datetime.now().strftime('%Y-%m-%d %H:%M:%S')\n",
    "    ], style = {'font-size': '1.0vw', 'background-color':'rgba(0,0,0,0)', \"text-align\": \"center\"})\n",
    "    return fig4\n",
    "\n",
    "#update total cases\n",
    "@app.callback(Output('live-update-totalcases', 'figure'),\n",
    "              Input('interval-component', 'n_intervals'))\n",
    "def update_interval_totalcases(n):\n",
    "    usa_df, states_df = data_loading()\n",
    "    TotalCases = usa_df['CASES'].iloc[0]\n",
    "    TotalDeaths = usa_df['DEATHS'].iloc[0]\n",
    "\n",
    "    fig, fig2, fig3, fig4, fig5 = figures(TotalCases, TotalDeaths, usa_df, states_df)\n",
    "    \n",
    "    return fig\n",
    "\n",
    "#update total deaths\n",
    "@app.callback(Output('live-update-totaldeaths', 'figure'),\n",
    "              Input('interval-component', 'n_intervals'))\n",
    "def update_interval_totaldeaths(n):\n",
    "    usa_df, states_df = data_loading()\n",
    "    TotalCases = usa_df['CASES'].iloc[0]\n",
    "    TotalDeaths = usa_df['DEATHS'].iloc[0]\n",
    "\n",
    "    fig, fig2, fig3, fig4, fig5 = figures(TotalCases, TotalDeaths, usa_df, states_df)\n",
    "    \n",
    "    return fig2\n",
    "\n",
    "#update bar\n",
    "@app.callback(Output('live-update-bar', 'figure'),\n",
    "              Input('interval-component', 'n_intervals'))                              \n",
    "def update_interval_bar(n):\n",
    "    usa_df, states_df = data_loading()\n",
    "    TotalCases = usa_df['CASES'].iloc[0]\n",
    "    TotalDeaths = usa_df['DEATHS'].iloc[0]\n",
    "\n",
    "    fig, fig2, fig3, fig4, fig5 = figures(TotalCases, TotalDeaths, usa_df, states_df)\n",
    "    \n",
    "    return fig3\n",
    "\n",
    "#update map\n",
    "@app.callback(Output('live-update-map', 'figure'),\n",
    "              Input('interval-component', 'n_intervals'))                              \n",
    "def update_interval_map(n):\n",
    "    usa_df, states_df = data_loading()\n",
    "    TotalCases = usa_df['CASES'].iloc[0]\n",
    "    TotalDeaths = usa_df['DEATHS'].iloc[0]\n",
    "\n",
    "    fig, fig2, fig3, fig4, fig5 = figures(TotalCases, TotalDeaths, usa_df, states_df)\n",
    "    \n",
    "    return fig5"
   ]
  },
  {
   "cell_type": "markdown",
   "metadata": {},
   "source": [
    "### Run the App"
   ]
  },
  {
   "cell_type": "code",
   "execution_count": null,
   "metadata": {},
   "outputs": [
    {
     "name": "stdout",
     "output_type": "stream",
     "text": [
      "Dash is running on http://127.0.0.1:8050/\n",
      "\n",
      " * Serving Flask app '__main__' (lazy loading)\n",
      " * Environment: production\n",
      "\u001b[31m   WARNING: This is a development server. Do not use it in a production deployment.\u001b[0m\n",
      "\u001b[2m   Use a production WSGI server instead.\u001b[0m\n",
      " * Debug mode: off\n"
     ]
    },
    {
     "name": "stderr",
     "output_type": "stream",
     "text": [
      " * Running on http://127.0.0.1:8050/ (Press CTRL+C to quit)\n",
      "127.0.0.1 - - [02/Jun/2021 17:45:07] \"GET / HTTP/1.1\" 200 -\n",
      "127.0.0.1 - - [02/Jun/2021 17:45:07] \"GET /assets/dash.css?m=1622410527.0694818 HTTP/1.1\" 304 -\n",
      "127.0.0.1 - - [02/Jun/2021 17:45:07] \"GET /_dash-dependencies HTTP/1.1\" 200 -\n",
      "127.0.0.1 - - [02/Jun/2021 17:45:09] \"GET /_dash-layout HTTP/1.1\" 200 -\n",
      "127.0.0.1 - - [02/Jun/2021 17:45:09] \"POST /_dash-update-component HTTP/1.1\" 200 -\n",
      "127.0.0.1 - - [02/Jun/2021 17:45:12] \"POST /_dash-update-component HTTP/1.1\" 200 -\n",
      "127.0.0.1 - - [02/Jun/2021 17:45:13] \"POST /_dash-update-component HTTP/1.1\" 200 -\n",
      "127.0.0.1 - - [02/Jun/2021 17:45:13] \"POST /_dash-update-component HTTP/1.1\" 200 -\n",
      "127.0.0.1 - - [02/Jun/2021 17:45:14] \"POST /_dash-update-component HTTP/1.1\" 200 -\n"
     ]
    }
   ],
   "source": [
    "app.layout = serve_layout\n",
    "\n",
    "if __name__ == '__main__':\n",
    "    app.run_server(debug=False, port=8050, host='127.0.0.1')"
   ]
  },
  {
   "cell_type": "code",
   "execution_count": null,
   "metadata": {},
   "outputs": [],
   "source": []
  }
 ],
 "metadata": {
  "kernelspec": {
   "display_name": "Python 3",
   "language": "python",
   "name": "python3"
  },
  "language_info": {
   "codemirror_mode": {
    "name": "ipython",
    "version": 3
   },
   "file_extension": ".py",
   "mimetype": "text/x-python",
   "name": "python",
   "nbconvert_exporter": "python",
   "pygments_lexer": "ipython3",
   "version": "3.7.3"
  }
 },
 "nbformat": 4,
 "nbformat_minor": 4
}
